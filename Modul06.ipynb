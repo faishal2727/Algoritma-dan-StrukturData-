{
 "cells": [
  {
   "cell_type": "code",
   "execution_count": 12,
   "metadata": {},
   "outputs": [
    {
     "name": "stdout",
     "output_type": "stream",
     "text": [
      "Apakah Kamu lulus ? [ya/tidak] : tidak\n",
      "Kamu Harus Ikut Remidi\n"
     ]
    }
   ],
   "source": [
    "lulus = input(\"Apakah Kamu lulus ? [ya/tidak] : \")\n",
    "\n",
    "if lulus == \"tidak\":\n",
    "    print(\"Kamu Harus Ikut Remidi\")"
   ]
  },
  {
   "cell_type": "code",
   "execution_count": 10,
   "metadata": {},
   "outputs": [
    {
     "name": "stdout",
     "output_type": "stream",
     "text": [
      "apakah kamu lulus ? [ya/tidak]ya\n"
     ]
    }
   ],
   "source": [
    "lulus = input(\"apakah kamu lulus ? [ya/tidak]\" )\n",
    "if lulus == \"tidak\" :\n",
    "   print(\"kamu harus ikut remidi\")"
   ]
  },
  {
   "cell_type": "code",
   "execution_count": 13,
   "metadata": {},
   "outputs": [
    {
     "name": "stdout",
     "output_type": "stream",
     "text": [
      "input usia17\n",
      "anda tidak boleh mennonton\n"
     ]
    }
   ],
   "source": [
    "umur = int(input(\"input usia\"))\n",
    "if umur >=18:\n",
    "    print(\"silahkan menonton\")\n",
    "else :\n",
    "    print(\"anda tidak boleh menonton\")\n",
    "    "
   ]
  },
  {
   "cell_type": "code",
   "execution_count": 15,
   "metadata": {},
   "outputs": [
    {
     "name": "stdout",
     "output_type": "stream",
     "text": [
      "input nilaimu : 90\n",
      "grade =  A\n"
     ]
    }
   ],
   "source": [
    "nilai = int(input(\"input nilaimu : \"))\n",
    "if nilai >= 85 :\n",
    "   grade = \"A\" \n",
    "elif nilai >= 69 :\n",
    "   grade = \"B\"\n",
    "elif nilai >=60 :\n",
    "    grade = \"C\"\n",
    "elif nilai >= 49 :\n",
    "    grade = \" D\"\n",
    "else :\n",
    "    grade = \"E\"\n",
    "print(\"grade = \", grade)"
   ]
  }
 ],
 "metadata": {
  "kernelspec": {
   "display_name": "Python 3",
   "language": "python",
   "name": "python3"
  },
  "language_info": {
   "codemirror_mode": {
    "name": "ipython",
    "version": 3
   },
   "file_extension": ".py",
   "mimetype": "text/x-python",
   "name": "python",
   "nbconvert_exporter": "python",
   "pygments_lexer": "ipython3",
   "version": "3.8.3"
  }
 },
 "nbformat": 4,
 "nbformat_minor": 4
}
