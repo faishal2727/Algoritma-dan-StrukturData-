{
 "cells": [
  {
   "cell_type": "code",
   "execution_count": 2,
   "metadata": {},
   "outputs": [
    {
     "name": "stdout",
     "output_type": "stream",
     "text": [
      "politeknik\n",
      "harapan\n",
      "bersama\n",
      "teknik informatika\n",
      "saya kuliah di sini jurusan teknik informatika\n"
     ]
    },
    {
     "ename": "NameError",
     "evalue": "name 'var' is not defined",
     "output_type": "error",
     "traceback": [
      "\u001b[1;31m---------------------------------------------------------------------------\u001b[0m",
      "\u001b[1;31mNameError\u001b[0m                                 Traceback (most recent call last)",
      "\u001b[1;32m<ipython-input-2-a6ee19d37004>\u001b[0m in \u001b[0;36m<module>\u001b[1;34m\u001b[0m\n\u001b[0;32m     12\u001b[0m \u001b[1;33m\u001b[0m\u001b[0m\n\u001b[0;32m     13\u001b[0m \u001b[1;32mdel\u001b[0m\u001b[1;33m(\u001b[0m\u001b[0mvar\u001b[0m\u001b[1;33m)\u001b[0m\u001b[1;33m\u001b[0m\u001b[1;33m\u001b[0m\u001b[0m\n\u001b[1;32m---> 14\u001b[1;33m \u001b[0mprint\u001b[0m\u001b[1;33m(\u001b[0m\u001b[0mvar\u001b[0m\u001b[1;33m)\u001b[0m\u001b[1;33m\u001b[0m\u001b[1;33m\u001b[0m\u001b[0m\n\u001b[0m",
      "\u001b[1;31mNameError\u001b[0m: name 'var' is not defined"
     ]
    }
   ],
   "source": [
    "#muh.faishalrizal\n",
    "var = \"politeknik\"  #var, variabel\n",
    "var2 = \"harapan\"    #var2, variabel\n",
    "var3 = \"bersama\"    #var3, variabel\n",
    "var4 = \"teknik informatika\" \n",
    "variabel_saya = \"saya kuliah di sini\"\n",
    "\n",
    "print(var)\n",
    "print(var2)\n",
    "print(var3)\n",
    "print(var4)\n",
    "print(variabel_saya, \"jurusan\", var4)\n",
    "\n",
    "del(var)\n",
    "print(var)"
   ]
  },
  {
   "cell_type": "code",
   "execution_count": 3,
   "metadata": {},
   "outputs": [
    {
     "name": "stdout",
     "output_type": "stream",
     "text": [
      "keliling lingkaran sama dengan 314.0\n"
     ]
    }
   ],
   "source": [
    "#muh.faishalrizal\n",
    "r = 50          #variabel:r, tipe integer\n",
    "phi = 3.14      #variabel:phi, tipe float\n",
    "keliling_lingkaran = 2*phi*r\n",
    "print(\"keliling lingkaran sama dengan\", keliling_lingkaran)\n",
    "\n"
   ]
  },
  {
   "cell_type": "code",
   "execution_count": 4,
   "metadata": {},
   "outputs": [
    {
     "name": "stdout",
     "output_type": "stream",
     "text": [
      "True\n"
     ]
    }
   ],
   "source": [
    "#muh.faishalrizal\n",
    "#a\n",
    "foo = 12 > 3 #tipedatabolean, true\n",
    "print(foo)"
   ]
  },
  {
   "cell_type": "code",
   "execution_count": 1,
   "metadata": {},
   "outputs": [
    {
     "name": "stdout",
     "output_type": "stream",
     "text": [
      "False\n"
     ]
    }
   ],
   "source": [
    "#muh.faishalrizal\n",
    "#b\n",
    "foo = 15 < 5 #tipedatabolean, false\n",
    "print(foo)"
   ]
  },
  {
   "cell_type": "code",
   "execution_count": 2,
   "metadata": {},
   "outputs": [
    {
     "name": "stdout",
     "output_type": "stream",
     "text": [
      "55.0\n",
      "0b110111\n",
      "0x37\n"
     ]
    }
   ],
   "source": [
    "#muh.faishalrizal\n",
    "jeruk = 55          #jeruk, variabel\n",
    "print(float(jeruk)) #konversitipedata, float\n",
    "print(bin(jeruk))   #konversitipedata, biner\n",
    "print(hex(jeruk))   #konversitipedata, heksadesimal"
   ]
  },
  {
   "cell_type": "code",
   "execution_count": 6,
   "metadata": {},
   "outputs": [
    {
     "name": "stdout",
     "output_type": "stream",
     "text": [
      "Biodata mahasiswa\n",
      "Nama : Muh Faishal Rizal\n",
      "NIM : 20090029\n",
      "\n",
      "Dia mahasiswa semester 1 yang berprestasi, karena memiliki Ipk sebesaar 3.88\n"
     ]
    },
    {
     "ename": "NameError",
     "evalue": "name 'ipk' is not defined",
     "output_type": "error",
     "traceback": [
      "\u001b[1;31m---------------------------------------------------------------------------\u001b[0m",
      "\u001b[1;31mNameError\u001b[0m                                 Traceback (most recent call last)",
      "\u001b[1;32m<ipython-input-6-b9a2656f89a5>\u001b[0m in \u001b[0;36m<module>\u001b[1;34m\u001b[0m\n\u001b[0;32m     13\u001b[0m \u001b[1;33m\u001b[0m\u001b[0m\n\u001b[0;32m     14\u001b[0m \u001b[1;32mdel\u001b[0m\u001b[1;33m(\u001b[0m\u001b[0mipk\u001b[0m\u001b[1;33m)\u001b[0m\u001b[1;33m\u001b[0m\u001b[1;33m\u001b[0m\u001b[0m\n\u001b[1;32m---> 15\u001b[1;33m \u001b[0mprint\u001b[0m\u001b[1;33m(\u001b[0m\u001b[0mipk\u001b[0m\u001b[1;33m)\u001b[0m\u001b[1;33m\u001b[0m\u001b[1;33m\u001b[0m\u001b[0m\n\u001b[0m",
      "\u001b[1;31mNameError\u001b[0m: name 'ipk' is not defined"
     ]
    }
   ],
   "source": [
    "judul = \"Biodata mahasiswa\"\n",
    "nama = \"Muh Faishal Rizal\"\n",
    "nim = \"\"\"20090029\n",
    "\"\"\"\n",
    "semester =  \"1\"\n",
    "ipk = \"3.88\" \n",
    "\n",
    "\n",
    "print(judul)\n",
    "print(\"Nama :\", nama)\n",
    "print(\"NIM :\", nim)\n",
    "print(\"Dia mahasiswa semester\", semester, \"yang berprestasi,\",\"karena memiliki Ipk sebesaar\",ipk)\n",
    "\n",
    "del(ipk)\n",
    "print(ipk)\n"
   ]
  }
 ],
 "metadata": {
  "kernelspec": {
   "display_name": "Python 3",
   "language": "python",
   "name": "python3"
  },
  "language_info": {
   "codemirror_mode": {
    "name": "ipython",
    "version": 3
   },
   "file_extension": ".py",
   "mimetype": "text/x-python",
   "name": "python",
   "nbconvert_exporter": "python",
   "pygments_lexer": "ipython3",
   "version": "3.8.3"
  }
 },
 "nbformat": 4,
 "nbformat_minor": 4
}
