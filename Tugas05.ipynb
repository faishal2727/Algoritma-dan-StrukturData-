{
 "cells": [
  {
   "cell_type": "code",
   "execution_count": 10,
   "metadata": {},
   "outputs": [
    {
     "name": "stdout",
     "output_type": "stream",
     "text": [
      "I like programmer\n",
      "Because I proud to make something new\n"
     ]
    }
   ],
   "source": [
    "#muhfaishalrizal\n",
    "#membuat fungsi 1\n",
    "def alasan():\n",
    "    print(\"Because I proud to make something new\")\n",
    "#membuat fungsi 2\n",
    "def jadi():\n",
    "    print(\"I like programmer\")\n",
    "#panggil fungsi 1 dan 2\n",
    "jadi()\n",
    "alasan()"
   ]
  },
  {
   "cell_type": "code",
   "execution_count": 19,
   "metadata": {
    "scrolled": true
   },
   "outputs": [
    {
     "name": "stdout",
     "output_type": "stream",
     "text": [
      "nama saya adalah faishal\n",
      "nama anda adalah faishal\n",
      "luas persegi panjang adalah 50\n",
      "luas persegi panjang adalah 5000\n"
     ]
    }
   ],
   "source": [
    "#muhfaishalrizal\n",
    "#FUNGSI NON PARAMETER\n",
    "def nama():\n",
    "    nama = input(\"nama saya adalah \")\n",
    "    print(\"nama anda adalah\", nama)\n",
    "nama()\n",
    "#FUNGSI PARAMETER\n",
    "def luas_pp (panjang, lebar):\n",
    "    luas = (panjang* lebar)\n",
    "    print(\"luas persegi panjang adalah\", luas)\n",
    "luas_pp (5, 10)\n",
    "luas_pp (100, 50)"
   ]
  },
  {
   "cell_type": "code",
   "execution_count": 54,
   "metadata": {},
   "outputs": [
    {
     "name": "stdout",
     "output_type": "stream",
     "text": [
      "panjang : 15\n",
      "lebar :8\n",
      "tinggi : 5\n",
      "luas persegi panjang adalah 120\n",
      "volume balok adalah 600\n"
     ]
    }
   ],
   "source": [
    "#muhfaishalrizal\n",
    "p =int(input(\"panjang : \"))\n",
    "l =int(input(\"lebar :\" ))\n",
    "t =int(input(\"tinggi : \"))\n",
    "def luas_persegi_panjang():\n",
    "    luas = p*l\n",
    "    return luas\n",
    "def volume_balok():\n",
    "    volume =luas_persegi_panjang()* t\n",
    "    return volume\n",
    "\n",
    "print(\"luas persegi panjang adalah\", luas_persegi_panjang())\n",
    "print(\"volume balok adalah\", volume_balok())\n",
    "    "
   ]
  },
  {
   "cell_type": "code",
   "execution_count": 9,
   "metadata": {},
   "outputs": [
    {
     "name": "stdout",
     "output_type": "stream",
     "text": [
      "angka1 10\n",
      "angka2 8\n",
      "Apkah angka1 sama dengan angka2 ?  False\n",
      "Apakah angka1 lebih besar dari angka2n ? True\n"
     ]
    }
   ],
   "source": [
    "#muhfaishalrizal\n",
    "angka1 = int(input(\"angka1 \"))\n",
    "angka2 = int(input(\"angka2 \"))\n",
    "\n",
    "def samadengan():\n",
    "    AA = angka1 == angka2\n",
    "    return AA\n",
    "def lebihbesar():\n",
    "    AB = angka1 > angka2\n",
    "    return AB\n",
    "print(\"Apkah angka1 sama dengan angka2 ? \", samadengan ())\n",
    "print(\"Apakah angka1 lebih besar dari angka2n ?\", lebihbesar ())"
   ]
  }
 ],
 "metadata": {
  "kernelspec": {
   "display_name": "Python 3",
   "language": "python",
   "name": "python3"
  },
  "language_info": {
   "codemirror_mode": {
    "name": "ipython",
    "version": 3
   },
   "file_extension": ".py",
   "mimetype": "text/x-python",
   "name": "python",
   "nbconvert_exporter": "python",
   "pygments_lexer": "ipython3",
   "version": "3.8.3"
  }
 },
 "nbformat": 4,
 "nbformat_minor": 4
}
