{
 "cells": [
  {
   "cell_type": "code",
   "execution_count": 1,
   "metadata": {},
   "outputs": [
    {
     "name": "stdout",
     "output_type": "stream",
     "text": [
      "30\n",
      "3.14\n",
      "50\n",
      "ini variabel milik faishal\n",
      "ini variabel milik faishal adalah 50\n"
     ]
    }
   ],
   "source": [
    "var = 30         #variabel=var\n",
    "phi = 3.14       #variabel=phi\n",
    "var2 = 50        #variabel=var2\n",
    "variabel_saya = \"ini variabel milik faishal\"\n",
    "\n",
    "print(var)\n",
    "print(phi)\n",
    "print(var2)\n",
    "print(variabel_saya)\n",
    "print(variabel_saya, \"adalah\",var2)"
   ]
  },
  {
   "cell_type": "code",
   "execution_count": null,
   "metadata": {},
   "outputs": [],
   "source": []
  }
 ],
 "metadata": {
  "kernelspec": {
   "display_name": "Python 3",
   "language": "python",
   "name": "python3"
  },
  "language_info": {
   "codemirror_mode": {
    "name": "ipython",
    "version": 3
   },
   "file_extension": ".py",
   "mimetype": "text/x-python",
   "name": "python",
   "nbconvert_exporter": "python",
   "pygments_lexer": "ipython3",
   "version": "3.8.3"
  }
 },
 "nbformat": 4,
 "nbformat_minor": 4
}
