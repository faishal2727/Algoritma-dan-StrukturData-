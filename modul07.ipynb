{
 "cells": [
  {
   "cell_type": "code",
   "execution_count": 5,
   "metadata": {},
   "outputs": [
    {
     "name": "stdout",
     "output_type": "stream",
     "text": [
      "masukan namafaishal\n",
      "masukan jumlah telur2\n",
      "4000\n"
     ]
    }
   ],
   "source": [
    "satu_butir_telur = 2000\n",
    "nama_pelanggan = input(\"masukan nama\")\n",
    "jumlah_telur = int(input(\"masukan jumlah telur\"))\n",
    "jumlah = satu_butir_telur * jumlah_telur\n",
    "print(jumlah)"
   ]
  },
  {
   "cell_type": "code",
   "execution_count": 3,
   "metadata": {},
   "outputs": [
    {
     "ename": "SyntaxError",
     "evalue": "invalid syntax (<ipython-input-3-33c7dd4694f3>, line 4)",
     "output_type": "error",
     "traceback": [
      "\u001b[1;36m  File \u001b[1;32m\"<ipython-input-3-33c7dd4694f3>\"\u001b[1;36m, line \u001b[1;32m4\u001b[0m\n\u001b[1;33m    print (len.(i))\u001b[0m\n\u001b[1;37m               ^\u001b[0m\n\u001b[1;31mSyntaxError\u001b[0m\u001b[1;31m:\u001b[0m invalid syntax\n"
     ]
    }
   ],
   "source": [
    "ulang = 100\n",
    "for i in range(ulang):\n",
    "    print(\"mantap\", i)\n",
    "    "
   ]
  },
  {
   "cell_type": "code",
   "execution_count": 12,
   "metadata": {},
   "outputs": [
    {
     "name": "stdout",
     "output_type": "stream",
     "text": [
      "Hari  Senin\n",
      "Hari  Selasa\n",
      "Hari  Rabu\n"
     ]
    }
   ],
   "source": [
    "hari = ['Senin','Selasa','Rabu']\n",
    "for i in range(len(hari)):\n",
    "    print(\"Hari \",hari[i])"
   ]
  },
  {
   "cell_type": "code",
   "execution_count": 21,
   "metadata": {},
   "outputs": [
    {
     "name": "stdout",
     "output_type": "stream",
     "text": [
      "ALGORITMA\n",
      "ALGORITMA\n",
      "ALGORITMA\n",
      "ALGORITMA\n",
      "ALGORITMA\n"
     ]
    }
   ],
   "source": [
    "i = 1 \n",
    "while i <= 5:\n",
    "    print('ALGORITMA')\n",
    "    i += 1"
   ]
  },
  {
   "cell_type": "code",
   "execution_count": 22,
   "metadata": {},
   "outputs": [
    {
     "ename": "SyntaxError",
     "evalue": "invalid syntax (<ipython-input-22-ad3765deefa0>, line 3)",
     "output_type": "error",
     "traceback": [
      "\u001b[1;36m  File \u001b[1;32m\"<ipython-input-22-ad3765deefa0>\"\u001b[1;36m, line \u001b[1;32m3\u001b[0m\n\u001b[1;33m    while(True)\u001b[0m\n\u001b[1;37m               ^\u001b[0m\n\u001b[1;31mSyntaxError\u001b[0m\u001b[1;31m:\u001b[0m invalid syntax\n"
     ]
    }
   ],
   "source": [
    "jawab = 'ya'\n",
    "hitung = 0\n",
    "while(True)\n",
    "    hitung += 1\n",
    "    jawab = input(\"ulang ?\")\n",
    "    if jawab == 'tidak'\n",
    "    break\n",
    "print(\"total\", hitung)"
   ]
  }
 ],
 "metadata": {
  "kernelspec": {
   "display_name": "Python 3",
   "language": "python",
   "name": "python3"
  },
  "language_info": {
   "codemirror_mode": {
    "name": "ipython",
    "version": 3
   },
   "file_extension": ".py",
   "mimetype": "text/x-python",
   "name": "python",
   "nbconvert_exporter": "python",
   "pygments_lexer": "ipython3",
   "version": "3.8.3"
  }
 },
 "nbformat": 4,
 "nbformat_minor": 4
}
