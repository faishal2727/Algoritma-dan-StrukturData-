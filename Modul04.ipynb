{
 "cells": [
  {
   "cell_type": "code",
   "execution_count": 1,
   "metadata": {},
   "outputs": [
    {
     "name": "stdout",
     "output_type": "stream",
     "text": [
      "Hasil 8 + 9 = 17\n",
      "Hasil 8 - 9 = -1\n",
      "Apakah a lebih besar dari b : True\n",
      "Apakah a lebih kecil dari b : False\n",
      "Apakah a sama dengan b : False\n",
      "Apakah a tidak sama dengan b : True\n",
      "Apakah a lebih besar sama dengan b : True\n",
      "Apakah a lebih kecil sama dengan b : False\n"
     ]
    }
   ],
   "source": [
    "a = 8\n",
    "b = 9\n",
    "e = 3\n",
    "#menggunakan operator penjumlahan\n",
    "c = a + b\n",
    "print (\"Hasil\", a, \"+\", b, \"=\",c)\n",
    "#operator pengurangan\n",
    "d=a-b\n",
    "print(\"Hasil\", a, \"-\",b, \"=\",d)\n",
    "a = 50\n",
    "b = 25\n",
    "#apakah a lebih besar dari b ?\n",
    "c = a>b\n",
    "print(\"Apakah a lebih besar dari b :\", c)\n",
    "#apakah a lebih kecil dari b ?\n",
    "d = a<b\n",
    "print(\"Apakah a lebih kecil dari b :\", d)\n",
    "#apakah a sama dengan b ?\n",
    "e = a==b\n",
    "print(\"Apakah a sama dengan b :\", e)\n",
    "#apakah a tidak sama dengan b ?\n",
    "f = a!=b\n",
    "print(\"Apakah a tidak sama dengan b :\", f)\n",
    "#apakah a lebih besar sama dengan b ?\n",
    "g = a>=b\n",
    "print(\"Apakah a lebih besar sama dengan b :\", g)\n",
    "#apakah a lebih kecil sama dengan b ?\n",
    "h = a<=b\n",
    "print(\"Apakah a lebih kecil sama dengan b :\", h)"
   ]
  },
  {
   "cell_type": "code",
   "execution_count": 10,
   "metadata": {},
   "outputs": [
    {
     "name": "stdout",
     "output_type": "stream",
     "text": [
      "10\n",
      "15\n"
     ]
    }
   ],
   "source": [
    "a  = 10 #contoh operator penugasan untuk nilai\n",
    "print(a)\n",
    "a += 5  #jumlah nilai a dengan operator penugassan untuk menjumlah\n",
    "#setelah nilai a ditambah 5, tampilkan isinya\n",
    "print(a) "
   ]
  },
  {
   "cell_type": "code",
   "execution_count": 13,
   "metadata": {},
   "outputs": [
    {
     "name": "stdout",
     "output_type": "stream",
     "text": [
      "apakah a sama dengan b : False\n",
      "apakah a lebih besar dari b : True\n"
     ]
    }
   ],
   "source": [
    "a = 10\n",
    "b = 5\n",
    "\n",
    "#apakah a sama dengan b ?\n",
    "c = a == b\n",
    "print (\"apakah a sama dengan b :\", c)\n",
    "#apakah a lebih besar dari b ?\n",
    "d = a > b\n",
    "print (\"apakah a lebih besar dari b :\", d)\n"
   ]
  },
  {
   "cell_type": "code",
   "execution_count": 3,
   "metadata": {},
   "outputs": [
    {
     "name": "stdout",
     "output_type": "stream",
     "text": [
      "2\n",
      "1\n",
      "False\n"
     ]
    }
   ],
   "source": [
    "a = 1\n",
    "b = 2\n",
    "#logika AND\n",
    "c = a and b\n",
    "print (c)\n",
    "d = a or b\n",
    "print (d)\n",
    "#logika not\n",
    "hasil =not(10 > 2)\n",
    "print(hasil)"
   ]
  },
  {
   "cell_type": "code",
   "execution_count": 23,
   "metadata": {},
   "outputs": [
    {
     "name": "stdout",
     "output_type": "stream",
     "text": [
      "muda\n"
     ]
    }
   ],
   "source": [
    "umur = 20\n",
    "aku  = \"muda\" if umur < 40 else \"tua\"\n",
    "print(aku)"
   ]
  },
  {
   "cell_type": "code",
   "execution_count": 28,
   "metadata": {},
   "outputs": [
    {
     "name": "stdout",
     "output_type": "stream",
     "text": [
      "nama kamu siapa ?faishal\n"
     ]
    }
   ],
   "source": [
    "name = input (\"nama kamu siapa ?\")\n"
   ]
  },
  {
   "cell_type": "code",
   "execution_count": 1,
   "metadata": {},
   "outputs": [
    {
     "name": "stdout",
     "output_type": "stream",
     "text": [
      "masukan nilai alas 9\n",
      "masukan nilai tinggi 8\n",
      "36.0\n"
     ]
    }
   ],
   "source": [
    "a = float(input(\"masukan nilai alas \"))\n",
    "t = float(input(\"masukan nilai tinggi \"))\n",
    "l = 0.5*a*t\n",
    "print(l)"
   ]
  },
  {
   "cell_type": "code",
   "execution_count": 31,
   "metadata": {},
   "outputs": [
    {
     "name": "stdout",
     "output_type": "stream",
     "text": [
      "nama kamu siapa? Faishal\n",
      "berapa umur kamu? 19\n",
      "Hello Faishal umur kamu 5 tahun lagi 24 tahun\n"
     ]
    }
   ],
   "source": [
    "#mengambil input \n",
    "name = input(\"nama kamu siapa? \")\n",
    "age  = int (input(\"berapa umur kamu? \"))\n",
    "\n",
    "age_5years= age + 5\n",
    "\n",
    "#menampilkan output\n",
    "print(\"Hello\", name, \"umur kamu 5 tahun lagi\", age_5years, \"tahun\")"
   ]
  }
 ],
 "metadata": {
  "kernelspec": {
   "display_name": "Python 3",
   "language": "python",
   "name": "python3"
  },
  "language_info": {
   "codemirror_mode": {
    "name": "ipython",
    "version": 3
   },
   "file_extension": ".py",
   "mimetype": "text/x-python",
   "name": "python",
   "nbconvert_exporter": "python",
   "pygments_lexer": "ipython3",
   "version": "3.8.3"
  }
 },
 "nbformat": 4,
 "nbformat_minor": 4
}
