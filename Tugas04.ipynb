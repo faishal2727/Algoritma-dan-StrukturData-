{
 "cells": [
  {
   "cell_type": "code",
   "execution_count": 19,
   "metadata": {},
   "outputs": [
    {
     "name": "stdout",
     "output_type": "stream",
     "text": [
      "Hasil 20 + 5 = 25\n",
      "Hasil 20 - 5 = 15\n",
      "Hasil 20 * 5 = 100\n",
      "Hasil 20 / 5 = 4.0\n",
      "Hasil 20 % 5 = 0\n",
      "Hasil 20 ** 5 = 3200000\n"
     ]
    }
   ],
   "source": [
    "#muh.faishalrizal\n",
    "a = 20\n",
    "b = 5\n",
    "#Menggunakan Operator Penjumlahan\n",
    "c = a+b\n",
    "print(\"Hasil\", a,\"+\", b, \"=\", c)\n",
    "#Menggunakan Operator Pengurangan\n",
    "d = a-b\n",
    "print(\"Hasil\", a, \"-\", b, \"=\", d)\n",
    "#Menggunakan Operator Perkalian\n",
    "e = a*b\n",
    "print(\"Hasil\", a, \"*\", b, \"=\", e)\n",
    "#Menggunakan Operator Pembagian\n",
    "f = a/b\n",
    "print(\"Hasil\", a, \"/\", b, \"=\", f)\n",
    "#Menggunakan Operator Sisa Bagi\n",
    "g = a%b\n",
    "print(\"Hasil\", a, \"%\", b, \"=\", g)\n",
    "#Menggunakan Operator Pemangkatan\n",
    "h = a**b\n",
    "print(\"Hasil\", a, \"**\", b, \"=\", h)"
   ]
  },
  {
   "cell_type": "code",
   "execution_count": 21,
   "metadata": {
    "scrolled": true
   },
   "outputs": [
    {
     "name": "stdout",
     "output_type": "stream",
     "text": [
      "25\n",
      "33\n"
     ]
    }
   ],
   "source": [
    "#muh.faisahlrizal\n",
    "a = 25    #Contoh Operator Penugasan Untuk mengisi Nilai \n",
    "print(a)\n",
    "a +=8     #Jumlahkan Nilai a dengan Operator Penugasan untuk Menjumlahkan \n",
    "#Setelah nilai a ditambah 8, tampilkan isinya\n",
    "print(a)"
   ]
  },
  {
   "cell_type": "code",
   "execution_count": 15,
   "metadata": {},
   "outputs": [
    {
     "name": "stdout",
     "output_type": "stream",
     "text": [
      "35\n",
      "30\n"
     ]
    }
   ],
   "source": [
    "#muh.faishalrizal \n",
    "a = 35   #Contoh Operator Penugasan Untuk mengisi Nilai\n",
    "print(a)\n",
    "a -=5     #Jumlahkan Nilai a dengan Operator Penugasan untuk Mengurangi\n",
    "#Setelah nilai a dikurangi 5, tampilkan isinya\n",
    "print(a)"
   ]
  },
  {
   "cell_type": "code",
   "execution_count": 16,
   "metadata": {},
   "outputs": [
    {
     "name": "stdout",
     "output_type": "stream",
     "text": [
      "20\n",
      "60\n"
     ]
    }
   ],
   "source": [
    "#muh.faishalrizal\n",
    "a = 20\n",
    "print(a)   #Jumlahkan Nilai a dengan Operator Penugasan untuk Perkalian\n",
    "#Setelah nilai a dikali 3, tampilkan isinya\n",
    "a *=3\n",
    "print(a)"
   ]
  },
  {
   "cell_type": "code",
   "execution_count": 24,
   "metadata": {},
   "outputs": [
    {
     "name": "stdout",
     "output_type": "stream",
     "text": [
      "36\n",
      "18.0\n"
     ]
    }
   ],
   "source": [
    "#muh.faishalrizal\n",
    "a = 36\n",
    "print(a)  \n",
    "a /=2      #Jumlahkan Nilai a dengan Operator Penugasan untuk Pembagian\n",
    "#Setelah nilai a dibagi 2, tampilkan isinya\n",
    "print(a)"
   ]
  },
  {
   "cell_type": "code",
   "execution_count": 26,
   "metadata": {},
   "outputs": [
    {
     "name": "stdout",
     "output_type": "stream",
     "text": [
      "30\n",
      "0\n"
     ]
    }
   ],
   "source": [
    "#muh.faishalrizal\n",
    "a = 30\n",
    "print(a)  \n",
    "a %=2      #jumlahkan Nilai a dengan operator penugasan sisa bagi \n",
    "print(a)"
   ]
  },
  {
   "cell_type": "code",
   "execution_count": 27,
   "metadata": {},
   "outputs": [
    {
     "name": "stdout",
     "output_type": "stream",
     "text": [
      "22\n",
      "484\n"
     ]
    }
   ],
   "source": [
    "#muh.faishalrizal\n",
    "a = 22\n",
    "print(a)\n",
    "a **=2   #jumlahkan Nilai a dengan operator penugasan premangkatan\n",
    "print(a)"
   ]
  },
  {
   "cell_type": "code",
   "execution_count": 1,
   "metadata": {},
   "outputs": [
    {
     "name": "stdout",
     "output_type": "stream",
     "text": [
      "Apakah a lebih besar dari b : True\n",
      "Apakah a lebih kecil dari b : False\n",
      "Apakah a sama dengan b : False\n",
      "Apakah a tidak sama dengan b : True\n",
      "Apakah a lebih besar sama dengan b : True\n",
      "Apakah a lebih kecil sama dengan b : False\n"
     ]
    }
   ],
   "source": [
    "#muhfaishalrizal\n",
    "a = 50\n",
    "b = 25\n",
    "#apakah a lebih besar dari b ?\n",
    "c = a>b\n",
    "print(\"Apakah a lebih besar dari b :\", c)\n",
    "#apakah a lebih kecil dari b ?\n",
    "d = a<b\n",
    "print(\"Apakah a lebih kecil dari b :\", d)\n",
    "#apakah a sama dengan b ?\n",
    "e = a==b\n",
    "print(\"Apakah a sama dengan b :\", e)\n",
    "#apakah a tidak sama dengan b ?\n",
    "f = a!=b\n",
    "print(\"Apakah a tidak sama dengan b :\", f)\n",
    "#apakah a lebih besar sama dengan b ?\n",
    "g = a>=b\n",
    "print(\"Apakah a lebih besar sama dengan b :\", g)\n",
    "#apakah a lebih kecil sama dengan b ?\n",
    "h = a<=b\n",
    "print(\"Apakah a lebih kecil sama dengan b :\", h)"
   ]
  },
  {
   "cell_type": "code",
   "execution_count": 6,
   "metadata": {},
   "outputs": [
    {
     "name": "stdout",
     "output_type": "stream",
     "text": [
      "False\n",
      "True\n",
      "False\n"
     ]
    }
   ],
   "source": [
    "#muhfaishalrizal\n",
    "#ooperator logika\n",
    "#logika and\n",
    "hasil =(10 > 5) and (12 < 6)\n",
    "print(hasil)\n",
    "#logika or\n",
    "hasil =(13 < 5) or (15 > 3)\n",
    "print(hasil)\n",
    "#logika not\n",
    "hasil =not(10 > 2)\n",
    "print(hasil)"
   ]
  },
  {
   "cell_type": "code",
   "execution_count": 7,
   "metadata": {},
   "outputs": [
    {
     "name": "stdout",
     "output_type": "stream",
     "text": [
      "Nama Bayi : Hitlan\n",
      "Berat bayi dalam Kg : 3\n",
      "berat bayi dalam ons : 30 ons\n",
      "berat bayi ditambah 30 ons : 60\n",
      "Berat bayi 1 bulan ke depan harus ditambahkan 30 Ons sehingga menjadi 90 ons\n"
     ]
    }
   ],
   "source": [
    "#muhfaishalrizal\n",
    "nama = input(\"Nama Bayi : \")\n",
    "berat_kg = int(input(\"Berat bayi dalam Kg : \"))\n",
    "ons = berat_kg * 10\n",
    "print(\"berat bayi dalam ons :\", ons, \"ons\")\n",
    "berat_bayi_ditambah30ons = ons + 30\n",
    "print(\"berat bayi ditambah 30 ons :\",berat_bayi_ditambah30ons)\n",
    "berat_satubulan_kedepan = berat_bayi_ditambah30ons + 30\n",
    "print(\"Berat bayi 1 bulan ke depan harus ditambahkan 30 Ons sehingga menjadi\", berat_satubulan_kedepan, \"ons\")"
   ]
  }
 ],
 "metadata": {
  "kernelspec": {
   "display_name": "Python 3",
   "language": "python",
   "name": "python3"
  },
  "language_info": {
   "codemirror_mode": {
    "name": "ipython",
    "version": 3
   },
   "file_extension": ".py",
   "mimetype": "text/x-python",
   "name": "python",
   "nbconvert_exporter": "python",
   "pygments_lexer": "ipython3",
   "version": "3.8.3"
  }
 },
 "nbformat": 4,
 "nbformat_minor": 4
}
