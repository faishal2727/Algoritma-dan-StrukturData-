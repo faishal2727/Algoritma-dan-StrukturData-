{
 "cells": [
  {
   "cell_type": "code",
   "execution_count": 15,
   "metadata": {},
   "outputs": [
    {
     "name": "stdout",
     "output_type": "stream",
     "text": [
      "nilai anda : 80\n",
      "anda lulus\n"
     ]
    }
   ],
   "source": [
    "#Muh Faishal Rizal\n",
    "#algoritma percabangan, nilai kurang dari 70 remidi\n",
    "nilai = int(input(\"nilai anda : \"))\n",
    "if nilai <=70 :\n",
    "   print(\"kamu harus ikut remidi\")\n",
    "else :\n",
    "   print(\"anda lulus\")"
   ]
  },
  {
   "cell_type": "code",
   "execution_count": 1,
   "metadata": {},
   "outputs": [
    {
     "name": "stdout",
     "output_type": "stream",
     "text": [
      "masukan r20\n",
      "1256.0\n",
      "Lingkaran ini besar\n"
     ]
    }
   ],
   "source": [
    "#Muh Faishal Rizal\n",
    "r = int(input(\"masukan r\")) #input jari-jari\n",
    "luas_lingkaran = 3.14*r*r\n",
    "print(luas_lingkaran)\n",
    "if luas_lingkaran >=314 :  #percabangan pertama\n",
    "   print(\"Lingkaran ini besar\")\n",
    "else :                     #percabnagan kedua\n",
    "    print(\"Lingkaran ini kecil\")"
   ]
  },
  {
   "cell_type": "code",
   "execution_count": 14,
   "metadata": {},
   "outputs": [
    {
     "name": "stdout",
     "output_type": "stream",
     "text": [
      "masukan nilai : 1\n",
      "masukan p : 2\n",
      "masukan l : 1\n",
      "masukan t : 1\n",
      "volume balok 2\n"
     ]
    }
   ],
   "source": [
    "#Muh Faishal Rizal\n",
    "def volume_balok():\n",
    "    p = int(input(\"masukan p : \"))\n",
    "    l = int(input(\"masukan l : \"))\n",
    "    t = int(input(\"masukan t : \"))\n",
    "    volume_balok = p*l*t\n",
    "    print(\"volume balok\", volume_balok)\n",
    "def volume_kubus():\n",
    "    s =int(input(\"masukan s : \"))\n",
    "    volume_kubus = s*s*s\n",
    "    print(\"volume kubus\", volume_kubus)\n",
    "nomor = int(input(\"masukan nilai : \"))\n",
    "if nomor == 1:\n",
    "    volume_balok()\n",
    "elif nomor ==2 :\n",
    "    volume_kubus()\n",
    "else:\n",
    "    (\"program tidak tersedia\")\n",
    "    "
   ]
  },
  {
   "cell_type": "code",
   "execution_count": 9,
   "metadata": {},
   "outputs": [
    {
     "name": "stdout",
     "output_type": "stream",
     "text": [
      "masukan nomor :1\n",
      "masukan p : 10\n",
      "masukan l : 7\n",
      "masukan t : 5\n",
      "Maka volume balok adalah  350\n"
     ]
    }
   ],
   "source": [
    "#Muh Faishal Rizal\n",
    "def volume_balok(): #fungsi pertama, volume balok\n",
    "    p = int(input(\"masukan p : \"))\n",
    "    l = int(input(\"masukan l : \"))\n",
    "    t = int(input(\"masukan t : \"))\n",
    "    volume_balok = p*l*t\n",
    "    return volume_balok #return volume_balok\n",
    "\n",
    "def volume_kubus(): #fungsi kedua, volume kubus\n",
    "    s = int(input(\"masukan s : \" ))\n",
    "    volume_kubus = s*s*s\n",
    "    return volume_kubus  #return volume_kubus\n",
    "nomor  = int(input(\"masukan nomor :\" ))\n",
    "if nomor == 1 :  #jika nomor sama dengan 1\n",
    "    print(\"Maka volume balok adalah \",volume_balok())\n",
    "elif nomor == 2 : #jika nomor sama dengan 2\n",
    "    print(\"Maka volume kubus adalah \",volume_kubus())\n",
    "else:             #jika bukan nomor 1 dan 2\n",
    "    print(\"program tidak tersedia\")\n",
    "    "
   ]
  }
 ],
 "metadata": {
  "kernelspec": {
   "display_name": "Python 3",
   "language": "python",
   "name": "python3"
  },
  "language_info": {
   "codemirror_mode": {
    "name": "ipython",
    "version": 3
   },
   "file_extension": ".py",
   "mimetype": "text/x-python",
   "name": "python",
   "nbconvert_exporter": "python",
   "pygments_lexer": "ipython3",
   "version": "3.8.3"
  }
 },
 "nbformat": 4,
 "nbformat_minor": 4
}
