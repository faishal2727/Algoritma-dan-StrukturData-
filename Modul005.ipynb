{
 "cells": [
  {
   "cell_type": "code",
   "execution_count": 24,
   "metadata": {},
   "outputs": [
    {
     "name": "stdout",
     "output_type": "stream",
     "text": [
      "hi, my name is Faishal Rizal\n"
     ]
    }
   ],
   "source": [
    "def biodata():\n",
    "    print(\"hi, my name is Faishal Rizal\")\n",
    "biodata()"
   ]
  },
  {
   "cell_type": "code",
   "execution_count": null,
   "metadata": {},
   "outputs": [],
   "source": []
  },
  {
   "cell_type": "code",
   "execution_count": 12,
   "metadata": {},
   "outputs": [
    {
     "name": "stdout",
     "output_type": "stream",
     "text": [
      "happy birtday and many happy return\n"
     ]
    }
   ],
   "source": [
    "def ucapan(ulangtahun):\n",
    "    print(ulangtahun)\n",
    "    \n",
    "ucapan(\"happy birtday and many happy return\")"
   ]
  },
  {
   "cell_type": "code",
   "execution_count": 26,
   "metadata": {},
   "outputs": [
    {
     "name": "stdout",
     "output_type": "stream",
     "text": [
      "LUAS SEGITIGA ADALAH 10.0\n"
     ]
    }
   ],
   "source": [
    "def luas_segitiga(alas, tinggi) :\n",
    "    luas =( alas * tinggi) / 2\n",
    "    print (\"LUAS SEGITIGA ADALAH\", luas);\n",
    "luas_segitiga(5, 4)\n"
   ]
  },
  {
   "cell_type": "code",
   "execution_count": 33,
   "metadata": {},
   "outputs": [
    {
     "name": "stdout",
     "output_type": "stream",
     "text": [
      "luas persegi  36\n",
      "volume persegi 125\n"
     ]
    }
   ],
   "source": [
    "#RUMUS = SISI X SISI\n",
    "def luas_persegi(sisi):\n",
    "    luas = sisi*sisi\n",
    "    return luas\n",
    "def volume_kubus(sisi):\n",
    "    volume = luas_persegi(sisi)*sisi\n",
    "    return volume\n",
    "print(\"luas persegi \", luas_persegi(6))\n",
    "print(\"volume persegi\", volume_kubus(5))"
   ]
  },
  {
   "cell_type": "code",
   "execution_count": null,
   "metadata": {},
   "outputs": [],
   "source": [
    "def nama():\n",
    "    nama = input(\"nama saya adalah \")\n",
    "    print(\"nama saya adalah\", nama)\n",
    "nama()\n",
    "#FUNGSI PARAMETER\n",
    "def luas_pp (panjang, lebar):\n",
    "    luas = (panjang* lebar)\n",
    "    print(\"luas persegi panjang adalah\", luas)\n",
    "luas_pp (5, 10)\n",
    "luas_pp (100, 50)"
   ]
  }
 ],
 "metadata": {
  "kernelspec": {
   "display_name": "Python 3",
   "language": "python",
   "name": "python3"
  },
  "language_info": {
   "codemirror_mode": {
    "name": "ipython",
    "version": 3
   },
   "file_extension": ".py",
   "mimetype": "text/x-python",
   "name": "python",
   "nbconvert_exporter": "python",
   "pygments_lexer": "ipython3",
   "version": "3.8.3"
  }
 },
 "nbformat": 4,
 "nbformat_minor": 4
}
